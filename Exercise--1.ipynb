{
 "cells": [
  {
   "cell_type": "markdown",
   "id": "d3e0b7a2",
   "metadata": {},
   "source": [
    "## Exercise 1"
   ]
  },
  {
   "cell_type": "code",
   "execution_count": 1,
   "id": "8d8d4ae8",
   "metadata": {},
   "outputs": [],
   "source": [
    "##Q1. What is 7 to the power of 4?"
   ]
  },
  {
   "cell_type": "code",
   "execution_count": 2,
   "id": "8de79f8c",
   "metadata": {},
   "outputs": [
    {
     "data": {
      "text/plain": [
       "2401"
      ]
     },
     "execution_count": 2,
     "metadata": {},
     "output_type": "execute_result"
    }
   ],
   "source": [
    "7**4"
   ]
  },
  {
   "cell_type": "code",
   "execution_count": null,
   "id": "2d2185ca",
   "metadata": {},
   "outputs": [],
   "source": []
  },
  {
   "cell_type": "code",
   "execution_count": 3,
   "id": "3cbb34c9",
   "metadata": {},
   "outputs": [],
   "source": [
    "# Q2.Split this string\n",
    "#    s = \"Hi there Yogesh!\"\n",
    "#    into a list. "
   ]
  },
  {
   "cell_type": "code",
   "execution_count": 26,
   "id": "fd2b245b",
   "metadata": {},
   "outputs": [],
   "source": [
    "s=\"Hi there Yogesh!\""
   ]
  },
  {
   "cell_type": "code",
   "execution_count": 27,
   "id": "7a23e0a4",
   "metadata": {},
   "outputs": [
    {
     "data": {
      "text/plain": [
       "str"
      ]
     },
     "execution_count": 27,
     "metadata": {},
     "output_type": "execute_result"
    }
   ],
   "source": [
    "type(s)"
   ]
  },
  {
   "cell_type": "code",
   "execution_count": 28,
   "id": "d692e320",
   "metadata": {},
   "outputs": [],
   "source": [
    "s1=['Hi','there','Yogesh']"
   ]
  },
  {
   "cell_type": "code",
   "execution_count": 29,
   "id": "54208e16",
   "metadata": {},
   "outputs": [
    {
     "data": {
      "text/plain": [
       "['Hi', 'there', 'Yogesh']"
      ]
     },
     "execution_count": 29,
     "metadata": {},
     "output_type": "execute_result"
    }
   ],
   "source": [
    "s1"
   ]
  },
  {
   "cell_type": "code",
   "execution_count": 30,
   "id": "f843b30f",
   "metadata": {},
   "outputs": [
    {
     "data": {
      "text/plain": [
       "list"
      ]
     },
     "execution_count": 30,
     "metadata": {},
     "output_type": "execute_result"
    }
   ],
   "source": [
    "type(s1)"
   ]
  },
  {
   "cell_type": "code",
   "execution_count": null,
   "id": "627a3bc6",
   "metadata": {},
   "outputs": [],
   "source": []
  },
  {
   "cell_type": "code",
   "execution_count": 11,
   "id": "f19f88ee",
   "metadata": {},
   "outputs": [],
   "source": [
    "## Q3. Given the variables\n",
    "#      planet = \"Earth\"\n",
    "#      diameter = 12742\n",
    "#   ** Use .format() to print the following string: **\n",
    "\n",
    "#       The diameter of Earth is 12742 kilometers."
   ]
  },
  {
   "cell_type": "code",
   "execution_count": 33,
   "id": "04e28442",
   "metadata": {},
   "outputs": [],
   "source": [
    "planet = \"Earth\"\n",
    "diameter = 12742"
   ]
  },
  {
   "cell_type": "code",
   "execution_count": 34,
   "id": "0f9125e6",
   "metadata": {},
   "outputs": [
    {
     "data": {
      "text/plain": [
       "'The diameter of Earth is 12742 kilometers'"
      ]
     },
     "execution_count": 34,
     "metadata": {},
     "output_type": "execute_result"
    }
   ],
   "source": [
    "'The diameter of {} is {} kilometers'.format(planet,diameter)"
   ]
  },
  {
   "cell_type": "code",
   "execution_count": 35,
   "id": "1d4c82d4",
   "metadata": {},
   "outputs": [
    {
     "data": {
      "text/plain": [
       "'The diameter of Earth Earth is 12742 12742 kilometers'"
      ]
     },
     "execution_count": 35,
     "metadata": {},
     "output_type": "execute_result"
    }
   ],
   "source": [
    "'The diameter of {} {} is {} {} kilometers'.format(planet,planet,diameter,diameter)"
   ]
  },
  {
   "cell_type": "code",
   "execution_count": 40,
   "id": "3d4f331b",
   "metadata": {},
   "outputs": [
    {
     "name": "stdout",
     "output_type": "stream",
     "text": [
      "The diameter of Earth is 12742 kilometers\n"
     ]
    }
   ],
   "source": [
    "print('The diameter of {one} is {two} kilometers'.format(one=planet, two=diameter))"
   ]
  },
  {
   "cell_type": "code",
   "execution_count": 37,
   "id": "589f29f4",
   "metadata": {},
   "outputs": [
    {
     "data": {
      "text/plain": [
       "'The diameter of 12742 is Earth kilometers'"
      ]
     },
     "execution_count": 37,
     "metadata": {},
     "output_type": "execute_result"
    }
   ],
   "source": [
    "'The diameter of {} is {} kilometers'.format(diameter, planet)"
   ]
  },
  {
   "cell_type": "code",
   "execution_count": 41,
   "id": "d0aa60aa",
   "metadata": {},
   "outputs": [
    {
     "data": {
      "text/plain": [
       "'The diameter of Earth is 12742 kilometers'"
      ]
     },
     "execution_count": 41,
     "metadata": {},
     "output_type": "execute_result"
    }
   ],
   "source": [
    "'The diameter of {one} is {two} kilometers'.format(one=planet,two=diameter)"
   ]
  },
  {
   "cell_type": "code",
   "execution_count": null,
   "id": "038706aa",
   "metadata": {},
   "outputs": [],
   "source": []
  },
  {
   "cell_type": "code",
   "execution_count": null,
   "id": "503ed94a",
   "metadata": {},
   "outputs": [],
   "source": [
    "## Q3.  Given this nested list, use indexing to grab the word \"hello\"\n",
    "# lst = [1,2,[3,4],[5,[100,200,['hello']],23,11],1,7]"
   ]
  },
  {
   "cell_type": "code",
   "execution_count": 43,
   "id": "9cd9a10f",
   "metadata": {},
   "outputs": [],
   "source": [
    "lst = [1,2,[3,4],[5,[100,200,['hello']],23,11],1,7]"
   ]
  },
  {
   "cell_type": "code",
   "execution_count": 45,
   "id": "6e2cd26b",
   "metadata": {},
   "outputs": [
    {
     "data": {
      "text/plain": [
       "'hello'"
      ]
     },
     "execution_count": 45,
     "metadata": {},
     "output_type": "execute_result"
    }
   ],
   "source": [
    "lst[3][1][2][0]"
   ]
  },
  {
   "cell_type": "code",
   "execution_count": null,
   "id": "539e2a64",
   "metadata": {},
   "outputs": [],
   "source": []
  },
  {
   "cell_type": "code",
   "execution_count": null,
   "id": "506c44e2",
   "metadata": {},
   "outputs": [],
   "source": [
    "# Q4. Given this nested dictionary grab the word \"hello\". Be prepared, this will be annoying/tricky\n",
    "# d = {'k1':[1,2,3,{'tricky':['oh','man','inception',{'target':[1,2,3,'hello']}]}]}"
   ]
  },
  {
   "cell_type": "code",
   "execution_count": 51,
   "id": "4ce60e25",
   "metadata": {},
   "outputs": [],
   "source": [
    "d = {'k1':[1,2,3,{'tricky':['oh','man','inception',{'target':[1,2,3,'hello']}]}]}"
   ]
  },
  {
   "cell_type": "code",
   "execution_count": 63,
   "id": "f1c4b635",
   "metadata": {},
   "outputs": [
    {
     "data": {
      "text/plain": [
       "'hello'"
      ]
     },
     "execution_count": 63,
     "metadata": {},
     "output_type": "execute_result"
    }
   ],
   "source": [
    "d['k1'][3]['tricky'][3]['target'][3]\n",
    "                    "
   ]
  },
  {
   "cell_type": "code",
   "execution_count": null,
   "id": "a41b8d34",
   "metadata": {},
   "outputs": [],
   "source": []
  },
  {
   "cell_type": "code",
   "execution_count": 64,
   "id": "57e42b9e",
   "metadata": {},
   "outputs": [],
   "source": [
    "# Q5.  What is the main difference between a tuple and a list?"
   ]
  },
  {
   "cell_type": "code",
   "execution_count": 65,
   "id": "60606e6a",
   "metadata": {},
   "outputs": [],
   "source": [
    "# --> 1.Lists are mutable(we can overwrite) but Tuples are Immutable(can't overwrite)\n",
    "# --> 2.Listes are enclosed in [] brackets and Tuples are enclosed in () brackets"
   ]
  },
  {
   "cell_type": "code",
   "execution_count": null,
   "id": "44a1af9a",
   "metadata": {},
   "outputs": [],
   "source": []
  },
  {
   "cell_type": "code",
   "execution_count": 66,
   "id": "198e2db3",
   "metadata": {},
   "outputs": [],
   "source": [
    "# Q6.  Create a function that grabs the email website domain from a string in the form: \n",
    "#      user@domain.com\n",
    "#      So for example, passing \"user@domain.com\" would return: domain.com"
   ]
  },
  {
   "cell_type": "code",
   "execution_count": 67,
   "id": "26d1891f",
   "metadata": {},
   "outputs": [],
   "source": [
    "email_Id=\"user@domain.com\""
   ]
  },
  {
   "cell_type": "code",
   "execution_count": 68,
   "id": "572175d8",
   "metadata": {},
   "outputs": [
    {
     "data": {
      "text/plain": [
       "'user@domain.com'"
      ]
     },
     "execution_count": 68,
     "metadata": {},
     "output_type": "execute_result"
    }
   ],
   "source": [
    "email_Id"
   ]
  },
  {
   "cell_type": "code",
   "execution_count": 70,
   "id": "e240a167",
   "metadata": {},
   "outputs": [
    {
     "data": {
      "text/plain": [
       "['user', 'domain.com']"
      ]
     },
     "execution_count": 70,
     "metadata": {},
     "output_type": "execute_result"
    }
   ],
   "source": [
    "email_Id.split('@')"
   ]
  },
  {
   "cell_type": "code",
   "execution_count": 72,
   "id": "5227f8be",
   "metadata": {},
   "outputs": [
    {
     "data": {
      "text/plain": [
       "'domain.com'"
      ]
     },
     "execution_count": 72,
     "metadata": {},
     "output_type": "execute_result"
    }
   ],
   "source": [
    "email_Id.split('@')[1]"
   ]
  },
  {
   "cell_type": "code",
   "execution_count": 77,
   "id": "e4f25c79",
   "metadata": {},
   "outputs": [
    {
     "data": {
      "text/plain": [
       "'domain.com'"
      ]
     },
     "execution_count": 77,
     "metadata": {},
     "output_type": "execute_result"
    }
   ],
   "source": [
    "email_Id.split('@')[-1][0:10]"
   ]
  },
  {
   "cell_type": "code",
   "execution_count": 78,
   "id": "7fd56356",
   "metadata": {},
   "outputs": [
    {
     "data": {
      "text/plain": [
       "'domain.com'"
      ]
     },
     "execution_count": 78,
     "metadata": {},
     "output_type": "execute_result"
    }
   ],
   "source": [
    "email_Id.split('@')[-1]"
   ]
  },
  {
   "cell_type": "code",
   "execution_count": null,
   "id": "0371eeb0",
   "metadata": {},
   "outputs": [],
   "source": []
  },
  {
   "cell_type": "code",
   "execution_count": null,
   "id": "c1a9a0db",
   "metadata": {},
   "outputs": [],
   "source": [
    "# Q7. Create a basic function that returns True if the word 'dog' is contained in the input string.\n",
    "#     Don't worry about edge cases like a punctuation being attached to the word dog, but do account for capitalization."
   ]
  },
  {
   "cell_type": "code",
   "execution_count": 80,
   "id": "1a44e59a",
   "metadata": {},
   "outputs": [],
   "source": [
    "data='Is there a dog here?'"
   ]
  },
  {
   "cell_type": "code",
   "execution_count": 81,
   "id": "54de756b",
   "metadata": {},
   "outputs": [
    {
     "data": {
      "text/plain": [
       "'Is there a dog here?'"
      ]
     },
     "execution_count": 81,
     "metadata": {},
     "output_type": "execute_result"
    }
   ],
   "source": [
    "data"
   ]
  },
  {
   "cell_type": "code",
   "execution_count": 82,
   "id": "0b74c6fd",
   "metadata": {},
   "outputs": [
    {
     "data": {
      "text/plain": [
       "str"
      ]
     },
     "execution_count": 82,
     "metadata": {},
     "output_type": "execute_result"
    }
   ],
   "source": [
    "type(data)"
   ]
  },
  {
   "cell_type": "code",
   "execution_count": 95,
   "id": "d6b9d79c",
   "metadata": {},
   "outputs": [
    {
     "name": "stdout",
     "output_type": "stream",
     "text": [
      "True\n"
     ]
    }
   ],
   "source": [
    "if dog in data:\n",
    "    print('True')\n",
    "    "
   ]
  },
  {
   "cell_type": "code",
   "execution_count": null,
   "id": "e082c4db",
   "metadata": {},
   "outputs": [],
   "source": []
  },
  {
   "cell_type": "code",
   "execution_count": null,
   "id": "75d6d194",
   "metadata": {},
   "outputs": [],
   "source": [
    "# Q8.  Create a function that counts the number of times the word \"dog\" occurs in a string. Again ignore edge cases."
   ]
  },
  {
   "cell_type": "code",
   "execution_count": 103,
   "id": "43646dd1",
   "metadata": {},
   "outputs": [],
   "source": [
    "str=('This dog runs faster than the other dog dude!')"
   ]
  },
  {
   "cell_type": "code",
   "execution_count": 104,
   "id": "bc3946d8",
   "metadata": {},
   "outputs": [
    {
     "data": {
      "text/plain": [
       "str"
      ]
     },
     "execution_count": 104,
     "metadata": {},
     "output_type": "execute_result"
    }
   ],
   "source": [
    "type(str)"
   ]
  },
  {
   "cell_type": "code",
   "execution_count": 107,
   "id": "35616472",
   "metadata": {},
   "outputs": [
    {
     "data": {
      "text/plain": [
       "2"
      ]
     },
     "execution_count": 107,
     "metadata": {},
     "output_type": "execute_result"
    }
   ],
   "source": [
    "str.count('dog')"
   ]
  },
  {
   "cell_type": "code",
   "execution_count": null,
   "id": "5e1d125f",
   "metadata": {},
   "outputs": [],
   "source": []
  },
  {
   "cell_type": "code",
   "execution_count": null,
   "id": "b2fd5868",
   "metadata": {},
   "outputs": [],
   "source": [
    "# Q9. Use lambda expressions and the filter() function to filter out words from a list that don't start with the letter 's'. \n",
    "#     For example:\n",
    "\n",
    "#    seq = ['soup','dog','salad','cat','great']\n",
    "#    should be filtered down to:\n",
    "\n",
    "#    ['soup','salad']"
   ]
  },
  {
   "cell_type": "code",
   "execution_count": 128,
   "id": "ba47002e",
   "metadata": {},
   "outputs": [],
   "source": [
    "seq = ['soup','dog','salad','cat','great']"
   ]
  },
  {
   "cell_type": "code",
   "execution_count": 129,
   "id": "3827f556",
   "metadata": {},
   "outputs": [
    {
     "data": {
      "text/plain": [
       "list"
      ]
     },
     "execution_count": 129,
     "metadata": {},
     "output_type": "execute_result"
    }
   ],
   "source": [
    "type(seq)"
   ]
  },
  {
   "cell_type": "code",
   "execution_count": 130,
   "id": "48df13af",
   "metadata": {},
   "outputs": [
    {
     "data": {
      "text/plain": [
       "<function __main__.<lambda>(x)>"
      ]
     },
     "execution_count": 130,
     "metadata": {},
     "output_type": "execute_result"
    }
   ],
   "source": [
    "(lambda x:x[0]!='s')"
   ]
  },
  {
   "cell_type": "code",
   "execution_count": 131,
   "id": "bd4b02ae",
   "metadata": {},
   "outputs": [
    {
     "data": {
      "text/plain": [
       "<map at 0x23396569490>"
      ]
     },
     "execution_count": 131,
     "metadata": {},
     "output_type": "execute_result"
    }
   ],
   "source": [
    "map(lambda x:x[0]!='s',seq)"
   ]
  },
  {
   "cell_type": "code",
   "execution_count": 132,
   "id": "81fa717c",
   "metadata": {},
   "outputs": [
    {
     "data": {
      "text/plain": [
       "[False, True, False, True, True]"
      ]
     },
     "execution_count": 132,
     "metadata": {},
     "output_type": "execute_result"
    }
   ],
   "source": [
    "list(map(lambda x:x[0]!='s',seq))"
   ]
  },
  {
   "cell_type": "code",
   "execution_count": 133,
   "id": "ce20952e",
   "metadata": {},
   "outputs": [
    {
     "data": {
      "text/plain": [
       "['dog', 'cat', 'great']"
      ]
     },
     "execution_count": 133,
     "metadata": {},
     "output_type": "execute_result"
    }
   ],
   "source": [
    "list(filter(lambda x:x[0]!='s',seq))"
   ]
  },
  {
   "cell_type": "code",
   "execution_count": 134,
   "id": "4ca066f7",
   "metadata": {},
   "outputs": [],
   "source": [
    "##If we want words staring from 'S'"
   ]
  },
  {
   "cell_type": "code",
   "execution_count": null,
   "id": "9a2f87f3",
   "metadata": {},
   "outputs": [],
   "source": [
    "seq = ['soup','dog','salad','cat','great']"
   ]
  },
  {
   "cell_type": "code",
   "execution_count": 135,
   "id": "a0f50005",
   "metadata": {},
   "outputs": [
    {
     "data": {
      "text/plain": [
       "<function __main__.<lambda>(v)>"
      ]
     },
     "execution_count": 135,
     "metadata": {},
     "output_type": "execute_result"
    }
   ],
   "source": [
    "lambda v:v[0]=='s'"
   ]
  },
  {
   "cell_type": "code",
   "execution_count": 136,
   "id": "70ff7706",
   "metadata": {},
   "outputs": [
    {
     "data": {
      "text/plain": [
       "<map at 0x23396337d90>"
      ]
     },
     "execution_count": 136,
     "metadata": {},
     "output_type": "execute_result"
    }
   ],
   "source": [
    "map(lambda v:v[0]=='s',seq)"
   ]
  },
  {
   "cell_type": "code",
   "execution_count": 137,
   "id": "bc77600c",
   "metadata": {},
   "outputs": [
    {
     "data": {
      "text/plain": [
       "[True, False, True, False, False]"
      ]
     },
     "execution_count": 137,
     "metadata": {},
     "output_type": "execute_result"
    }
   ],
   "source": [
    "list(map(lambda v:v[0]=='s',seq))"
   ]
  },
  {
   "cell_type": "code",
   "execution_count": 138,
   "id": "95903b31",
   "metadata": {},
   "outputs": [
    {
     "data": {
      "text/plain": [
       "['soup', 'salad']"
      ]
     },
     "execution_count": 138,
     "metadata": {},
     "output_type": "execute_result"
    }
   ],
   "source": [
    "list(filter(lambda v:v[0]=='s',seq))"
   ]
  },
  {
   "cell_type": "code",
   "execution_count": null,
   "id": "f8a4e8b6",
   "metadata": {},
   "outputs": [],
   "source": []
  },
  {
   "cell_type": "code",
   "execution_count": null,
   "id": "db2672ac",
   "metadata": {},
   "outputs": [],
   "source": [
    "# Q10. You are driving a little too fast, and a police officer stops you. \n",
    "#      Write a function to return one of 3 possible results: \"No ticket\", \"Small ticket\", or \"Big Ticket\". \n",
    "#      If your speed is 60 or less, the result is \"No Ticket\".\n",
    "#      If speed is between 61 and 80 inclusive, the result is \"Small Ticket\". \n",
    "#      If speed is 81 or more, the result is \"Big Ticket\". \n",
    "#      Unless it is your birthday (encoded as a boolean value in the parameters of the function) -- on your birthday, \n",
    "#      your speed can be 5 higher in all cases. \n"
   ]
  },
  {
   "cell_type": "code",
   "execution_count": 6,
   "id": "1f8f3e8a",
   "metadata": {},
   "outputs": [],
   "source": [
    "def catch_speed(speed,birthday):\n",
    "    if birthday:\n",
    "        new_speed=speed-5\n",
    "    else:\n",
    "        new_speed=speed\n",
    "    if new_speed>80:\n",
    "        return \"BIG TICKET\"\n",
    "    elif new_speed>60:\n",
    "        return \"SMALL TICKET\"\n",
    "    else:\n",
    "        return \"NO TICKET\"\n",
    "    "
   ]
  },
  {
   "cell_type": "code",
   "execution_count": 8,
   "id": "8c2e2c8f",
   "metadata": {},
   "outputs": [
    {
     "data": {
      "text/plain": [
       "'SMALL TICKET'"
      ]
     },
     "execution_count": 8,
     "metadata": {},
     "output_type": "execute_result"
    }
   ],
   "source": [
    "catch_speed(81,True)"
   ]
  },
  {
   "cell_type": "code",
   "execution_count": 9,
   "id": "3c1a4f57",
   "metadata": {},
   "outputs": [
    {
     "data": {
      "text/plain": [
       "'BIG TICKET'"
      ]
     },
     "execution_count": 9,
     "metadata": {},
     "output_type": "execute_result"
    }
   ],
   "source": [
    "catch_speed(81,False)"
   ]
  },
  {
   "cell_type": "code",
   "execution_count": 14,
   "id": "49f6c0ed",
   "metadata": {},
   "outputs": [
    {
     "data": {
      "text/plain": [
       "'NO TICKET'"
      ]
     },
     "execution_count": 14,
     "metadata": {},
     "output_type": "execute_result"
    }
   ],
   "source": [
    "catch_speed(40,True)"
   ]
  },
  {
   "cell_type": "code",
   "execution_count": null,
   "id": "e543475d",
   "metadata": {},
   "outputs": [],
   "source": []
  },
  {
   "cell_type": "code",
   "execution_count": null,
   "id": "62061dc0",
   "metadata": {},
   "outputs": [],
   "source": [
    "# Q11. Given a string print number num by extracting all the                                                ###(Interview Que)\n",
    "#      digits from the string as in string\n",
    "#      Print negative number if the first character in \n",
    "#      string is '-'\n",
    "#      eg.\n",
    "#        -123abcd should return -123,abcd456-->456,fdhfh78dsd89--->7889,-56dssd78-->-5678"
   ]
  },
  {
   "cell_type": "code",
   "execution_count": 21,
   "id": "4873a5bc",
   "metadata": {},
   "outputs": [
    {
     "name": "stdout",
     "output_type": "stream",
     "text": [
      "Enter the input: -97df889ffg\n",
      "-97889\n"
     ]
    }
   ],
   "source": [
    "a=input(\"Enter the input: \")\n",
    "num=\"\"\n",
    "s=[0,1,2,3,4,5,6,7,8,9]\n",
    "if a[0]=='-':\n",
    "    num=num+a[0]\n",
    "for c in a: \n",
    "    if c in str(s):\n",
    "        num=num+c\n",
    "print(num)"
   ]
  },
  {
   "cell_type": "code",
   "execution_count": null,
   "id": "72bfe519",
   "metadata": {},
   "outputs": [],
   "source": []
  },
  {
   "cell_type": "code",
   "execution_count": 22,
   "id": "395c4234",
   "metadata": {},
   "outputs": [],
   "source": [
    "# Q12. WAP to check whether a number is palindrome or not on following conditions.\n",
    "#      1. take input number\n",
    "#      2. add number and its reverse\n",
    "#      3. check that number is palindrome or not,if not then sum and its reverse"
   ]
  },
  {
   "cell_type": "code",
   "execution_count": 46,
   "id": "1f80f421",
   "metadata": {},
   "outputs": [
    {
     "name": "stdout",
     "output_type": "stream",
     "text": [
      "Enter the number:987\n",
      "Number is : 8547\n",
      "Reverse is : 7458\n",
      "Number is : 16005\n",
      "Reverse is : 50061\n",
      "Number is : 66066\n",
      "Reverse is : 66066\n",
      "Reverse is: 66066\n"
     ]
    }
   ],
   "source": [
    "num1=input(\"Enter the number:\")\n",
    "num2=int(num1[::-1])\n",
    "num3=str(int(num1)+num2)\n",
    "while num3!=num3[::-1]:\n",
    "    num3=str(int(num3)+int(num3[::-1]))\n",
    "    print(\"Number is :\",num3)\n",
    "    print(\"Reverse is :\",num3[::-1])\n",
    "print(\"Reverse is:\",num3)"
   ]
  },
  {
   "cell_type": "code",
   "execution_count": 47,
   "id": "f5ba44e4",
   "metadata": {},
   "outputs": [
    {
     "data": {
      "text/plain": [
       "'987'"
      ]
     },
     "execution_count": 47,
     "metadata": {},
     "output_type": "execute_result"
    }
   ],
   "source": [
    "num1"
   ]
  },
  {
   "cell_type": "code",
   "execution_count": 48,
   "id": "dee3ba22",
   "metadata": {},
   "outputs": [
    {
     "data": {
      "text/plain": [
       "789"
      ]
     },
     "execution_count": 48,
     "metadata": {},
     "output_type": "execute_result"
    }
   ],
   "source": [
    "num2"
   ]
  },
  {
   "cell_type": "code",
   "execution_count": 49,
   "id": "5d3bcbd3",
   "metadata": {},
   "outputs": [
    {
     "data": {
      "text/plain": [
       "'66066'"
      ]
     },
     "execution_count": 49,
     "metadata": {},
     "output_type": "execute_result"
    }
   ],
   "source": [
    "num3"
   ]
  },
  {
   "cell_type": "code",
   "execution_count": null,
   "id": "3c49011e",
   "metadata": {},
   "outputs": [],
   "source": []
  },
  {
   "cell_type": "code",
   "execution_count": null,
   "id": "af8fa36f",
   "metadata": {},
   "outputs": [],
   "source": [
    "# Q13. Write a python function to find and display the five \n",
    "#      digit number in which the first digit is two more than \n",
    "#      the second,the second digit is two more than the third,\n",
    "#      the fourth digit is two less than the third, and the \n",
    "#      last digit is two more than\n",
    "#      the fourth.The sum of the third,fourth and fifth digits\n",
    "#      equals the first.The sum of all the digits is 19 "
   ]
  },
  {
   "cell_type": "code",
   "execution_count": 52,
   "id": "8023fdec",
   "metadata": {},
   "outputs": [],
   "source": [
    "def find_five_digit():\n",
    "    for i in range(0,9,1):\n",
    "        a = i\n",
    "        b = i-2\n",
    "        c = i-4\n",
    "        d = i-6\n",
    "        e = i-4\n",
    "        if(c+d+e == a):\n",
    "            if(a+b+c+d+e == 19):\n",
    "                return int(str(a)+str(b)+str(c)+str(c)+str(d)+str(e))"
   ]
  },
  {
   "cell_type": "code",
   "execution_count": 53,
   "id": "395aae2c",
   "metadata": {},
   "outputs": [
    {
     "name": "stdout",
     "output_type": "stream",
     "text": [
      "753313\n"
     ]
    }
   ],
   "source": [
    "print (find_five_digit())"
   ]
  },
  {
   "cell_type": "code",
   "execution_count": null,
   "id": "2682125b",
   "metadata": {},
   "outputs": [],
   "source": []
  }
 ],
 "metadata": {
  "kernelspec": {
   "display_name": "Python 3 (ipykernel)",
   "language": "python",
   "name": "python3"
  },
  "language_info": {
   "codemirror_mode": {
    "name": "ipython",
    "version": 3
   },
   "file_extension": ".py",
   "mimetype": "text/x-python",
   "name": "python",
   "nbconvert_exporter": "python",
   "pygments_lexer": "ipython3",
   "version": "3.9.12"
  }
 },
 "nbformat": 4,
 "nbformat_minor": 5
}
